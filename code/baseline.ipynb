{
 "cells": [
  {
   "cell_type": "code",
   "execution_count": 1,
   "metadata": {},
   "outputs": [
    {
     "name": "stderr",
     "output_type": "stream",
     "text": [
      "D:\\ProgramData\\Anaconda3\\lib\\importlib\\_bootstrap.py:219: RuntimeWarning: numpy.ufunc size changed, may indicate binary incompatibility. Expected 192 from C header, got 216 from PyObject\n",
      "  return f(*args, **kwds)\n",
      "D:\\ProgramData\\Anaconda3\\lib\\importlib\\_bootstrap.py:219: RuntimeWarning: numpy.ufunc size changed, may indicate binary incompatibility. Expected 192 from C header, got 216 from PyObject\n",
      "  return f(*args, **kwds)\n"
     ]
    }
   ],
   "source": [
    "import pandas as pd\n",
    "import numpy as np\n",
    "import xgboost as xgb\n",
    "from sklearn.preprocessing import OneHotEncoder, LabelEncoder\n",
    "from sklearn.model_selection import StratifiedKFold\n",
    "from sklearn.metrics import roc_auc_score\n",
    "import lightgbm as lgb"
   ]
  },
  {
   "cell_type": "code",
   "execution_count": 11,
   "metadata": {},
   "outputs": [],
   "source": [
    "def load_data(path):\n",
    "    # action\n",
    "    test_action = pd.read_csv(path + \"test/test_actions.csv\",delimiter=\"\\t\")\n",
    "    train_action = pd.read_csv(path + \"train/train_actions.csv\",delimiter=\"\\t\")\n",
    "    action = pd.concat([test_action,train_action])\n",
    "    \n",
    "    # info\n",
    "    test_info = pd.read_csv(path + \"test/test_info.csv\", delimiter=\"\\t\")\n",
    "    train_info = pd.read_csv(path + \"train/train_info.csv\", delimiter=\"\\t\")\n",
    "    info = pd.concat([test_info,train_info])\n",
    "    \n",
    "    #flag\n",
    "    test_flag = pd.read_csv(path + \"submit_example.csv\", delimiter=\"\\t\")\n",
    "    train_flag = pd.read_csv(path + \"train/train_flag.csv\", delimiter=\"\\t\")\n",
    "    test_flag[\"FLAG\"] = -1\n",
    "    flag = pd.concat([train_flag, test_flag])\n",
    "    \n",
    "    return info,action,flag"
   ]
  },
  {
   "cell_type": "markdown",
   "metadata": {},
   "source": [
    "# 读取数据"
   ]
  },
  {
   "cell_type": "code",
   "execution_count": 13,
   "metadata": {},
   "outputs": [
    {
     "name": "stdout",
     "output_type": "stream",
     "text": [
      "加载数据...\n",
      "数据加载完成...\n",
      "合并基本用户特征和标签\n",
      "合并完成\n"
     ]
    }
   ],
   "source": [
    "print(\"加载数据...\")\n",
    "path = \"../data/\"\n",
    "info, action, flag = load_data(path)\n",
    "print(\"数据加载完成...\")\n",
    "print(\"合并基本用户特征和标签\")\n",
    "data = pd.merge(info, flag, on=[\"USRID\"], how=\"left\")\n",
    "print(\"合并完成\")"
   ]
  },
  {
   "cell_type": "markdown",
   "metadata": {},
   "source": [
    "# 训练集&测试集切分"
   ]
  },
  {
   "cell_type": "code",
   "execution_count": 16,
   "metadata": {},
   "outputs": [
    {
     "name": "stdout",
     "output_type": "stream",
     "text": [
      "train (56000, 32)\n",
      "test (24000, 32)\n"
     ]
    }
   ],
   "source": [
    "train = data[data[\"FLAG\"] != -1]\n",
    "test = data[data[\"FLAG\"] == -1]\n",
    "print(\"train\", train.shape)\n",
    "print(\"test\", test.shape)"
   ]
  },
  {
   "cell_type": "markdown",
   "metadata": {},
   "source": [
    "# 取出特征列和标签"
   ]
  },
  {
   "cell_type": "code",
   "execution_count": 18,
   "metadata": {},
   "outputs": [
    {
     "name": "stdout",
     "output_type": "stream",
     "text": [
      "(56000, 30)\n",
      "30\n"
     ]
    }
   ],
   "source": [
    "# 构造数据\n",
    "# userid取出\n",
    "train_userid = train.pop(\"USRID\")\n",
    "# 取出标签y\n",
    "y = train.pop(\"FLAG\")\n",
    "y = y.values\n",
    "# 取出特征名\n",
    "col = list(train.columns)\n",
    "# 取出训练集特征数据\n",
    "X = train.values\n",
    "print(X.shape)\n",
    "print(len(col))\n",
    "test_userid = test.pop(\"USRID\")\n",
    "test_y = test.pop(\"FLAG\")\n",
    "test = test.values"
   ]
  },
  {
   "cell_type": "markdown",
   "metadata": {},
   "source": [
    "# 建模与预估"
   ]
  },
  {
   "cell_type": "code",
   "execution_count": 24,
   "metadata": {},
   "outputs": [],
   "source": [
    "# 拟合\n",
    "gbm = lgb.LGBMClassifier()\n",
    "gbm.fit(train, y)\n",
    "\n",
    "# 预估和产出结果文件\n",
    "res = pd.DataFrame()\n",
    "res[\"USRID\"] = test_userid\n",
    "res[\"FLAG\"] = gbm.predict_proba(test)[:,1]"
   ]
  },
  {
   "cell_type": "code",
   "execution_count": 38,
   "metadata": {},
   "outputs": [
    {
     "data": {
      "text/plain": [
       "<matplotlib.axes._subplots.AxesSubplot at 0x2618eba8cc8>"
      ]
     },
     "execution_count": 38,
     "metadata": {},
     "output_type": "execute_result"
    },
    {
     "data": {
      "image/png": "[encoded data removed]",
      "text/plain": [
       "<Figure size 1152x576 with 1 Axes>"
      ]
     },
     "metadata": {
      "needs_background": "light"
     },
     "output_type": "display_data"
    }
   ],
   "source": [
    "from matplotlib.pylab import rcParams\n",
    "rcParams[\"figure.figsize\"] = 16, 8\n",
    "feature_importances = gbm.feature_importances_\n",
    "# indexs = np.argsort(feature_importances)[::-1]\n",
    "feat_importances = pd.Series(feature_importances, index=col)\n",
    "feat_importances.sort_values(ascending = False).plot(kind=\"bar\")"
   ]
  }
 ],
 "metadata": {
  "kernelspec": {
   "display_name": "Python 3",
   "language": "python",
   "name": "python3"
  },
  "language_info": {
   "codemirror_mode": {
    "name": "ipython",
    "version": 3
   },
   "file_extension": ".py",
   "mimetype": "text/x-python",
   "name": "python",
   "nbconvert_exporter": "python",
   "pygments_lexer": "ipython3",
   "version": "3.7.6"
  }
 },
 "nbformat": 4,
 "nbformat_minor": 4
}
